{
  "nbformat": 4,
  "nbformat_minor": 0,
  "metadata": {
    "colab": {
      "name": "faceshape.ipynb",
      "provenance": [],
      "collapsed_sections": [],
      "authorship_tag": "ABX9TyMUpdOpPwGTbTErMG6BFrFq",
      "include_colab_link": true
    },
    "kernelspec": {
      "name": "python3",
      "display_name": "Python 3"
    },
    "language_info": {
      "name": "python"
    },
    "gpuClass": "standard",
    "accelerator": "GPU"
  },
  "cells": [
    {
      "cell_type": "markdown",
      "metadata": {
        "id": "view-in-github",
        "colab_type": "text"
      },
      "source": [
        "<a href=\"https://colab.research.google.com/github/luntrum/model_predict_age_gender_and_faceshape/blob/main/faceshape.ipynb\" target=\"_parent\"><img src=\"https://colab.research.google.com/assets/colab-badge.svg\" alt=\"Open In Colab\"/></a>"
      ]
    },
    {
      "cell_type": "code",
      "execution_count": null,
      "metadata": {
        "id": "sJGfCFQCeJ47"
      },
      "outputs": [],
      "source": [
        "from google.colab import drive\n",
        "drive.mount(\"/content/gdrive\")"
      ]
    },
    {
      "cell_type": "code",
      "source": [
        "import numpy as np\n",
        "import cv2\n",
        "import os\n",
        "import matplotlib.pyplot as plt\n",
        "import tensorflow as tf\n",
        "import pickle\n",
        "import math as m\n",
        "import math\n",
        "import keras_preprocessing\n",
        "import seaborn as sns\n",
        "import pandas as pd\n",
        "\n",
        "from PIL import Image, ImageOps\n",
        "\n",
        "from keras import optimizers\n",
        "from keras.models import Model, Sequential,load_model\n",
        "from keras.layers import Input, Convolution2D, ZeroPadding2D, MaxPooling2D, Flatten, Dense, Dropout, Activation,Conv2D\n",
        "from keras.preprocessing import image\n",
        "from keras.preprocessing.image import ImageDataGenerator\n",
        "from keras.preprocessing.image import load_img, save_img, img_to_array\n",
        "from keras.applications.imagenet_utils import preprocess_input\n",
        "from keras.models import model_from_json\n",
        "from tensorflow.keras.optimizers import Adam \n",
        "\n",
        "\n",
        "from sklearn.model_selection import train_test_split\n",
        "\n",
        "\n",
        "from os import listdir"
      ],
      "metadata": {
        "id": "tG9PStiHeNdm"
      },
      "execution_count": null,
      "outputs": []
    },
    {
      "cell_type": "code",
      "source": [
        "im_shape = (200,200)\n",
        "\n",
        "TRAINING_DIR = '/content/gdrive/MyDrive/Colab Notebooks/cuoiki/FaceShape Dataset/testing_set'\n",
        "TEST_DIR = '/content/gdrive/MyDrive/Colab Notebooks/cuoiki/FaceShape Dataset/training_set'\n",
        "\n",
        "seed = 10\n",
        "\n",
        "BATCH_SIZE = 16\n",
        "data_generator = ImageDataGenerator(\n",
        "        validation_split=0.2,\n",
        "        rotation_range=20,\n",
        "        width_shift_range=0.2,\n",
        "        height_shift_range=0.2,\n",
        "        rescale=1./255,\n",
        "        shear_range=0.2,\n",
        "        zoom_range=0.2,\n",
        "        horizontal_flip=True,\n",
        "        fill_mode='nearest')\n",
        "\n",
        "val_data_generator = ImageDataGenerator(rescale=1./255, validation_split=0.2)\n",
        "# Generator data train\n",
        "train_generator = data_generator.flow_from_directory(TRAINING_DIR, target_size=im_shape, shuffle=True, seed=seed,\n",
        "                                                     class_mode='categorical', batch_size=BATCH_SIZE, subset=\"training\")\n",
        "# Generator data validation\n",
        "validation_generator = val_data_generator.flow_from_directory(TRAINING_DIR, target_size=im_shape, shuffle=False, seed=seed,\n",
        "                                                     class_mode='categorical', batch_size=BATCH_SIZE, subset=\"validation\")\n",
        "\n",
        "# Generator data test\n",
        "test_generator = ImageDataGenerator(rescale=1./255)\n",
        "test_generator = test_generator.flow_from_directory(TEST_DIR, target_size=im_shape, shuffle=False, seed=seed,\n",
        "                                                     class_mode='categorical', batch_size=BATCH_SIZE)\n",
        "\n",
        "nb_train_samples = train_generator.samples\n",
        "nb_validation_samples = validation_generator.samples\n",
        "nb_test_samples = test_generator.samples\n",
        "classes = list(train_generator.class_indices.keys())\n",
        "print('Classes: '+str(classes))\n",
        "num_classes  = len(classes)"
      ],
      "metadata": {
        "id": "7fBow1LHePJW"
      },
      "execution_count": null,
      "outputs": []
    },
    {
      "cell_type": "code",
      "source": [
        "agemodel = Sequential()\n",
        "agemodel.add(Conv2D(32, (3,3), activation='relu', input_shape=(200, 200, 3)))\n",
        "agemodel.add(MaxPooling2D((2,2)))\n",
        "agemodel.add(Conv2D(64, (3,3), activation='relu'))\n",
        "agemodel.add(MaxPooling2D((2,2)))\n",
        "agemodel.add(Conv2D(128, (3,3), activation='relu'))\n",
        "agemodel.add(MaxPooling2D((2,2)))\n",
        "agemodel.add(Flatten())\n",
        "agemodel.add(Dense(64, activation='relu'))\n",
        "agemodel.add(Dropout(0.5))\n",
        "agemodel.add(Dense(1, activation='relu'))\n",
        "\n",
        "agemodel.compile(loss='mean_squared_error',\n",
        "             optimizer=tf.keras.optimizers.Adam(learning_rate=0.0001),\n",
        "             metrics=['accuracy'])\n",
        "\n",
        "genmodel = Sequential()\n",
        "genmodel.add(Conv2D(32, (3,3), activation='relu', input_shape=(200, 200, 3)))\n",
        "genmodel.add(MaxPooling2D((2,2)))\n",
        "genmodel.add(Conv2D(64, (3,3), activation='relu'))\n",
        "genmodel.add(MaxPooling2D((2,2)))\n",
        "genmodel.add(Conv2D(128, (3,3), activation='relu'))\n",
        "genmodel.add(MaxPooling2D((2,2)))\n",
        "genmodel.add(Flatten())\n",
        "genmodel.add(Dense(64, activation='relu'))\n",
        "genmodel.add(Dropout(0.5))\n",
        "genmodel.add(Dense(1, activation='sigmoid'))\n",
        "\n",
        "genmodel.compile(loss='binary_crossentropy',\n",
        "             optimizer=tf.keras.optimizers.Adam(learning_rate=0.0001),\n",
        "             metrics=['accuracy'])\n",
        "\n",
        "\n",
        "\n",
        "faceshapemodel = Sequential()\n",
        "faceshapemodel.add(Conv2D(32, kernel_size=(3, 3),\n",
        "                 activation='relu',\n",
        "                 input_shape=(im_shape[0],im_shape[1],3)))\n",
        "faceshapemodel.add(MaxPooling2D(pool_size=(2, 2)))\n",
        "faceshapemodel.add(Conv2D(64, kernel_size=(3,3), activation='relu'))\n",
        "faceshapemodel.add(Flatten())\n",
        "faceshapemodel.add(Dense(128, activation='relu'))\n",
        "faceshapemodel.add(Dropout(0.2))\n",
        "faceshapemodel.add(Dense(num_classes, activation='softmax'))\n",
        "faceshapemodel.summary()\n",
        "\n",
        "# Compile model\n",
        "faceshapemodel.compile(loss='categorical_crossentropy',\n",
        "              optimizer=Adam(),\n",
        "              metrics=['accuracy'])"
      ],
      "metadata": {
        "colab": {
          "base_uri": "https://localhost:8080/"
        },
        "id": "WMOW-Kp4eahi",
        "outputId": "0c1b9add-467e-4fd2-bb93-16a3a7dee940"
      },
      "execution_count": null,
      "outputs": [
        {
          "output_type": "stream",
          "name": "stdout",
          "text": [
            "Model: \"sequential_62\"\n",
            "_________________________________________________________________\n",
            " Layer (type)                Output Shape              Param #   \n",
            "=================================================================\n",
            " conv2d_176 (Conv2D)         (None, 198, 198, 32)      896       \n",
            "                                                                 \n",
            " max_pooling2d_173 (MaxPooli  (None, 99, 99, 32)       0         \n",
            " ng2D)                                                           \n",
            "                                                                 \n",
            " conv2d_177 (Conv2D)         (None, 97, 97, 64)        18496     \n",
            "                                                                 \n",
            " flatten_43 (Flatten)        (None, 602176)            0         \n",
            "                                                                 \n",
            " dense_123 (Dense)           (None, 128)               77078656  \n",
            "                                                                 \n",
            " dropout_62 (Dropout)        (None, 128)               0         \n",
            "                                                                 \n",
            " dense_124 (Dense)           (None, 5)                 645       \n",
            "                                                                 \n",
            "=================================================================\n",
            "Total params: 77,098,693\n",
            "Trainable params: 77,098,693\n",
            "Non-trainable params: 0\n",
            "_________________________________________________________________\n"
          ]
        }
      ]
    },
    {
      "cell_type": "code",
      "source": [
        "history3 = faceshapemodel.fit(train_generator,\n",
        "        steps_per_epoch=nb_train_samples // 16,\n",
        "        epochs=50,\n",
        "        \n",
        "        validation_data=validation_generator,\n",
        "        verbose = 1,\n",
        "        validation_steps=nb_validation_samples // 16)"
      ],
      "metadata": {
        "colab": {
          "base_uri": "https://localhost:8080/"
        },
        "id": "3FWUPP9JeeyT",
        "outputId": "7cb81510-e663-4e7b-ab6b-2b14252cbdec"
      },
      "execution_count": null,
      "outputs": [
        {
          "output_type": "stream",
          "name": "stdout",
          "text": [
            "Epoch 1/50\n",
            "50/50 [==============================] - 358s 7s/step - loss: 4.9944 - accuracy: 0.2188 - val_loss: 1.6093 - val_accuracy: 0.2031\n",
            "Epoch 2/50\n",
            "50/50 [==============================] - 58s 1s/step - loss: 1.6094 - accuracy: 0.2163 - val_loss: 1.6095 - val_accuracy: 0.1875\n",
            "Epoch 3/50\n",
            "50/50 [==============================] - 56s 1s/step - loss: 1.6102 - accuracy: 0.2375 - val_loss: 1.6072 - val_accuracy: 0.2083\n",
            "Epoch 4/50\n",
            "50/50 [==============================] - 56s 1s/step - loss: 1.6088 - accuracy: 0.2225 - val_loss: 1.6101 - val_accuracy: 0.1771\n",
            "Epoch 5/50\n",
            "50/50 [==============================] - 56s 1s/step - loss: 1.6092 - accuracy: 0.1963 - val_loss: 1.6087 - val_accuracy: 0.2031\n",
            "Epoch 6/50\n",
            "50/50 [==============================] - 56s 1s/step - loss: 1.6070 - accuracy: 0.2212 - val_loss: 1.6069 - val_accuracy: 0.2031\n",
            "Epoch 7/50\n",
            "50/50 [==============================] - 57s 1s/step - loss: 1.6115 - accuracy: 0.2362 - val_loss: 1.6091 - val_accuracy: 0.2083\n",
            "Epoch 8/50\n",
            "50/50 [==============================] - 56s 1s/step - loss: 1.6102 - accuracy: 0.2062 - val_loss: 1.6099 - val_accuracy: 0.1875\n",
            "Epoch 9/50\n",
            "50/50 [==============================] - 56s 1s/step - loss: 1.6068 - accuracy: 0.2100 - val_loss: 1.5990 - val_accuracy: 0.2396\n",
            "Epoch 10/50\n",
            "50/50 [==============================] - 56s 1s/step - loss: 1.6314 - accuracy: 0.2300 - val_loss: 1.6117 - val_accuracy: 0.1771\n",
            "Epoch 11/50\n",
            "50/50 [==============================] - 57s 1s/step - loss: 1.6069 - accuracy: 0.2025 - val_loss: 1.6115 - val_accuracy: 0.1823\n",
            "Epoch 12/50\n",
            "50/50 [==============================] - 55s 1s/step - loss: 1.6096 - accuracy: 0.2250 - val_loss: 1.6076 - val_accuracy: 0.1823\n",
            "Epoch 13/50\n",
            "50/50 [==============================] - 56s 1s/step - loss: 1.6032 - accuracy: 0.2188 - val_loss: 1.6073 - val_accuracy: 0.1927\n",
            "Epoch 14/50\n",
            "50/50 [==============================] - 57s 1s/step - loss: 1.6033 - accuracy: 0.2125 - val_loss: 1.6021 - val_accuracy: 0.2396\n",
            "Epoch 15/50\n",
            "50/50 [==============================] - 57s 1s/step - loss: 1.5991 - accuracy: 0.2425 - val_loss: 1.6099 - val_accuracy: 0.2292\n",
            "Epoch 16/50\n",
            "50/50 [==============================] - 58s 1s/step - loss: 1.5926 - accuracy: 0.2488 - val_loss: 1.6202 - val_accuracy: 0.2292\n",
            "Epoch 17/50\n",
            "50/50 [==============================] - 56s 1s/step - loss: 1.6005 - accuracy: 0.2650 - val_loss: 1.5939 - val_accuracy: 0.2969\n",
            "Epoch 18/50\n",
            "50/50 [==============================] - 57s 1s/step - loss: 1.6035 - accuracy: 0.2062 - val_loss: 1.5925 - val_accuracy: 0.2188\n",
            "Epoch 19/50\n",
            "50/50 [==============================] - 56s 1s/step - loss: 1.5977 - accuracy: 0.2537 - val_loss: 1.6006 - val_accuracy: 0.2760\n",
            "Epoch 20/50\n",
            "50/50 [==============================] - 58s 1s/step - loss: 1.5998 - accuracy: 0.2250 - val_loss: 1.5961 - val_accuracy: 0.2292\n",
            "Epoch 21/50\n",
            "50/50 [==============================] - 56s 1s/step - loss: 1.5942 - accuracy: 0.2387 - val_loss: 1.6034 - val_accuracy: 0.2188\n",
            "Epoch 22/50\n",
            "50/50 [==============================] - 57s 1s/step - loss: 1.5990 - accuracy: 0.2262 - val_loss: 1.6079 - val_accuracy: 0.2344\n",
            "Epoch 23/50\n",
            "50/50 [==============================] - 57s 1s/step - loss: 1.5935 - accuracy: 0.2275 - val_loss: 1.6093 - val_accuracy: 0.2448\n",
            "Epoch 24/50\n",
            "50/50 [==============================] - 58s 1s/step - loss: 1.5867 - accuracy: 0.2250 - val_loss: 1.6519 - val_accuracy: 0.2708\n",
            "Epoch 25/50\n",
            "50/50 [==============================] - 58s 1s/step - loss: 1.6036 - accuracy: 0.2313 - val_loss: 1.6264 - val_accuracy: 0.2760\n",
            "Epoch 26/50\n",
            "50/50 [==============================] - 57s 1s/step - loss: 1.5926 - accuracy: 0.2625 - val_loss: 1.6237 - val_accuracy: 0.2865\n",
            "Epoch 27/50\n",
            "50/50 [==============================] - 57s 1s/step - loss: 1.5916 - accuracy: 0.2488 - val_loss: 1.5967 - val_accuracy: 0.2656\n",
            "Epoch 28/50\n",
            "50/50 [==============================] - 57s 1s/step - loss: 1.5836 - accuracy: 0.2713 - val_loss: 1.6002 - val_accuracy: 0.3021\n",
            "Epoch 29/50\n",
            "50/50 [==============================] - 57s 1s/step - loss: 1.5819 - accuracy: 0.2800 - val_loss: 1.6000 - val_accuracy: 0.2656\n",
            "Epoch 30/50\n",
            "50/50 [==============================] - 55s 1s/step - loss: 1.5833 - accuracy: 0.2575 - val_loss: 1.6049 - val_accuracy: 0.2604\n",
            "Epoch 31/50\n",
            "50/50 [==============================] - 55s 1s/step - loss: 1.5765 - accuracy: 0.2775 - val_loss: 1.6269 - val_accuracy: 0.2448\n",
            "Epoch 32/50\n",
            "50/50 [==============================] - 55s 1s/step - loss: 1.5790 - accuracy: 0.2550 - val_loss: 1.6271 - val_accuracy: 0.2708\n",
            "Epoch 33/50\n",
            "50/50 [==============================] - 55s 1s/step - loss: 1.5723 - accuracy: 0.2788 - val_loss: 1.5845 - val_accuracy: 0.2396\n",
            "Epoch 34/50\n",
            "50/50 [==============================] - 55s 1s/step - loss: 1.5845 - accuracy: 0.2562 - val_loss: 1.5884 - val_accuracy: 0.2344\n",
            "Epoch 35/50\n",
            "50/50 [==============================] - 55s 1s/step - loss: 1.5741 - accuracy: 0.2587 - val_loss: 1.5767 - val_accuracy: 0.2865\n",
            "Epoch 36/50\n",
            "50/50 [==============================] - 59s 1s/step - loss: 1.5712 - accuracy: 0.2800 - val_loss: 1.5667 - val_accuracy: 0.2969\n",
            "Epoch 37/50\n",
            "50/50 [==============================] - 56s 1s/step - loss: 1.5649 - accuracy: 0.2850 - val_loss: 1.5646 - val_accuracy: 0.3125\n",
            "Epoch 38/50\n",
            "50/50 [==============================] - 56s 1s/step - loss: 1.5675 - accuracy: 0.2650 - val_loss: 1.5771 - val_accuracy: 0.2708\n",
            "Epoch 39/50\n",
            "50/50 [==============================] - 57s 1s/step - loss: 1.5655 - accuracy: 0.2912 - val_loss: 1.5672 - val_accuracy: 0.3073\n",
            "Epoch 40/50\n",
            "50/50 [==============================] - 56s 1s/step - loss: 1.5691 - accuracy: 0.3000 - val_loss: 1.5739 - val_accuracy: 0.3125\n",
            "Epoch 41/50\n",
            "50/50 [==============================] - 56s 1s/step - loss: 1.5743 - accuracy: 0.3000 - val_loss: 1.5576 - val_accuracy: 0.2812\n",
            "Epoch 42/50\n",
            "50/50 [==============================] - 55s 1s/step - loss: 1.5776 - accuracy: 0.2875 - val_loss: 1.5589 - val_accuracy: 0.2656\n",
            "Epoch 43/50\n",
            "50/50 [==============================] - 55s 1s/step - loss: 1.5637 - accuracy: 0.2887 - val_loss: 1.5660 - val_accuracy: 0.2917\n",
            "Epoch 44/50\n",
            "50/50 [==============================] - 55s 1s/step - loss: 1.5577 - accuracy: 0.3050 - val_loss: 1.6017 - val_accuracy: 0.2865\n",
            "Epoch 45/50\n",
            "50/50 [==============================] - 56s 1s/step - loss: 1.5689 - accuracy: 0.2713 - val_loss: 1.6056 - val_accuracy: 0.2917\n",
            "Epoch 46/50\n",
            "50/50 [==============================] - 56s 1s/step - loss: 1.5588 - accuracy: 0.2675 - val_loss: 1.5686 - val_accuracy: 0.2760\n",
            "Epoch 47/50\n",
            "50/50 [==============================] - 56s 1s/step - loss: 1.5361 - accuracy: 0.2950 - val_loss: 1.5664 - val_accuracy: 0.2917\n",
            "Epoch 48/50\n",
            "50/50 [==============================] - 57s 1s/step - loss: 1.5459 - accuracy: 0.3013 - val_loss: 1.5512 - val_accuracy: 0.3229\n",
            "Epoch 49/50\n",
            "50/50 [==============================] - 56s 1s/step - loss: 1.5506 - accuracy: 0.2825 - val_loss: 1.5746 - val_accuracy: 0.2969\n",
            "Epoch 50/50\n",
            "50/50 [==============================] - 55s 1s/step - loss: 1.5526 - accuracy: 0.2988 - val_loss: 1.5741 - val_accuracy: 0.2552\n"
          ]
        }
      ]
    },
    {
      "cell_type": "code",
      "source": [
        "faceshapemodel.save('/content/gdrive/MyDrive/Colab Notebooks/cuoiki/faceshape.h')"
      ],
      "metadata": {
        "colab": {
          "base_uri": "https://localhost:8080/"
        },
        "id": "MxWKEyjembDU",
        "outputId": "7d3c7a97-53ff-4e21-f5f5-8fe0b0cb7003"
      },
      "execution_count": null,
      "outputs": [
        {
          "output_type": "stream",
          "name": "stdout",
          "text": [
            "INFO:tensorflow:Assets written to: /content/gdrive/MyDrive/Colab Notebooks/cuoiki/faceshape.h/assets\n"
          ]
        }
      ]
    }
  ]
}